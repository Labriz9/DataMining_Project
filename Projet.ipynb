{
 "cells": [
  {
   "cell_type": "code",
   "execution_count": 12,
   "id": "243e5d6d-a4ea-4862-8fa1-0722eeacafc2",
   "metadata": {},
   "outputs": [
    {
     "data": {
      "text/plain": [
       "0     200\n",
       "1     200\n",
       "2     200\n",
       "3     200\n",
       "4     200\n",
       "     ... \n",
       "95    200\n",
       "96    200\n",
       "97    200\n",
       "98    200\n",
       "99    200\n",
       "Name: webformatURL, Length: 100, dtype: int64"
      ]
     },
     "execution_count": 12,
     "metadata": {},
     "output_type": "execute_result"
    }
   ],
   "source": [
    "import urllib.request\n",
    "import json\n",
    "import pandas as pd\n",
    "import requests\n",
    "import shutil\n",
    "import os\n",
    "\n",
    "\n",
    "url = (\n",
    "    \"https://pixabay.com/api/?key=42732485-b4c1847a3529ea910e8e5fdeb&q=animaux&image_type=photo&per_page=100\"\n",
    ")\n",
    "response = urllib.request.urlopen(url)\n",
    "responsedata = json.loads(response.read().decode(\"utf-8\"))\n",
    "responsedata\n",
    "\n",
    "def download_image(url):\n",
    "\n",
    "    headers = {\"User-Agent\": \"Mozilla/5.0\"}\n",
    "    request = requests.get(url, allow_redirects=True, headers=headers, stream=True)\n",
    "    if request.status_code == 200:\n",
    "        with open(os.path.basename(url), \"wb\") as image:\n",
    "            request.raw.decode_content = True\n",
    "            shutil.copyfileobj(request.raw, image)\n",
    "    return request.status_code\n",
    "\n",
    "array = []\n",
    "\n",
    "for result in responsedata[\"hits\"]:\n",
    "    array.append(\n",
    "        (\n",
    "            result[\"id\"],\n",
    "            result[\"tags\"],\n",
    "            result[\"webformatURL\"],\n",
    "        )\n",
    "    )\n",
    "\n",
    "dataframe = pd.DataFrame(array, columns=[\"id\", \"tags\", \"webformatURL\"])\n",
    "dataframe = dataframe.astype(\n",
    "    dtype={\"id\": \"<U200\", \"tags\": \"<U200\", \"webformatURL\": \"<U200\"}\n",
    ")\n",
    "dataframe\n",
    "\n",
    "dataframe.webformatURL.apply(download_image)\n",
    " "
   ]
  },
  {
   "cell_type": "markdown",
   "id": "caa48f38-7d82-4925-935f-9b780fe2bd7e",
   "metadata": {},
   "source": [
    "On va stocker id, tags, largeImageURL, imageWidth, imageHeight, imageSize, likes, format de l'image en prenant ce qu'il y a après le .; user"
   ]
  }
 ],
 "metadata": {
  "kernelspec": {
   "display_name": "Python 3 (ipykernel)",
   "language": "python",
   "name": "python3"
  },
  "language_info": {
   "codemirror_mode": {
    "name": "ipython",
    "version": 3
   },
   "file_extension": ".py",
   "mimetype": "text/x-python",
   "name": "python",
   "nbconvert_exporter": "python",
   "pygments_lexer": "ipython3",
   "version": "3.8.10"
  }
 },
 "nbformat": 4,
 "nbformat_minor": 5
}
